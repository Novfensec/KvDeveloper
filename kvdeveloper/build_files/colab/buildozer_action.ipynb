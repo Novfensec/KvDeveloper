{
 "cells": [
  {
   "cell_type": "code",
   "execution_count": null,
   "metadata": {},
   "outputs": [],
   "source": [
    "from google.colab import drive\n",
    "drive.mount(\"/content/drive/\")\n",
    "# use this if you have your app folder uploaded on your google drive"
   ]
  },
  {
   "cell_type": "code",
   "execution_count": null,
   "metadata": {},
   "outputs": [],
   "source": [
    "!cp -r /content/drive/\"yourfolderpath\" .\n",
    "# replace \"yourfolderpath\" with Drive folder path you want to copy\n",
    "# example: !cp -r /content/drive/MyDrive/WeatherApp ."
   ]
  },
  {
   "cell_type": "code",
   "execution_count": null,
   "metadata": {},
   "outputs": [],
   "source": [
    "!pip install buildozer"
   ]
  },
  {
   "cell_type": "code",
   "execution_count": null,
   "metadata": {},
   "outputs": [],
   "source": [
    "!pip install cython==0.29.33"
   ]
  },
  {
   "cell_type": "code",
   "execution_count": null,
   "metadata": {},
   "outputs": [],
   "source": [
    "!sudo apt-get install -y \\\n",
    "    python3-pip \\\n",
    "    build-essential \\\n",
    "    git \\\n",
    "    python3 \\\n",
    "    python3-dev \\\n",
    "    ffmpeg \\\n",
    "    libsdl2-dev \\\n",
    "    libsdl2-image-dev \\\n",
    "    libsdl2-mixer-dev \\\n",
    "    libsdl2-ttf-dev \\\n",
    "    libportmidi-dev \\\n",
    "    libswscale-dev \\\n",
    "    libavformat-dev \\\n",
    "    libavcodec-dev \\\n",
    "    libunwind-dev \\\n",
    "    zlib1g-dev"
   ]
  },
  {
   "cell_type": "code",
   "execution_count": null,
   "metadata": {},
   "outputs": [],
   "source": [
    "!sudo apt-get install -y \\\n",
    "    libgstreamer1.0 \\\n",
    "    gstreamer1.0-plugins-base \\\n",
    "    gstreamer1.0-plugins-good"
   ]
  },
  {
   "cell_type": "code",
   "execution_count": null,
   "metadata": {},
   "outputs": [],
   "source": [
    "!sudo apt-get install build-essential libsqlite3-dev \\\n",
    "sqlite3 bzip2 libbz2-dev zlib1g-dev libssl-dev \\\n",
    "openssl libgdbm-dev libgdbm-compat-dev liblzma-dev \\\n",
    "libreadline-dev libncursesw5-dev libffi-dev uuid-dev"
   ]
  },
  {
   "cell_type": "code",
   "execution_count": null,
   "metadata": {},
   "outputs": [],
   "source": [
    "!sudo apt install -y git zip unzip openjdk-17-jdk \\\n",
    "autoconf libtool pkg-config zlib1g-dev \\\n",
    "libncurses5-dev libncursesw5-dev libtinfo5 \\\n",
    "cmake libffi-dev libssl-dev automake "
   ]
  },
  {
   "cell_type": "code",
   "execution_count": null,
   "metadata": {},
   "outputs": [],
   "source": [
    "!buildozer init \n",
    "# run this if you want to generate a buildozer.spec file"
   ]
  },
  {
   "cell_type": "code",
   "execution_count": null,
   "metadata": {},
   "outputs": [],
   "source": [
    "!yes | buildozer -v android debug\n",
    "# run this to build an apk file for debugging."
   ]
  },
  {
   "cell_type": "code",
   "execution_count": null,
   "metadata": {},
   "outputs": [],
   "source": [
    "'''!yes | buildozer -v android release'''\n",
    "# run this to build an aab (Android App Bundle) [Required by google play]."
   ]
  },
  {
   "cell_type": "code",
   "execution_count": null,
   "metadata": {},
   "outputs": [],
   "source": [
    "!buildozer android clean"
   ]
  }
 ],
 "metadata": {
  "language_info": {
   "name": "python"
  },
  "orig_nbformat": 4
 },
 "nbformat": 4,
 "nbformat_minor": 2
}
